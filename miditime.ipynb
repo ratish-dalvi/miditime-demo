{
 "metadata": {
  "name": "",
  "signature": "sha256:4be56232ac7637987d2730d363a86d014b15d5c0dd8f5bb8780be04e7c55d54a"
 },
 "nbformat": 3,
 "nbformat_minor": 0,
 "worksheets": [
  {
   "cells": [
    {
     "cell_type": "code",
     "collapsed": false,
     "input": [
      "import pandas as pd\n",
      "import matplotlib\n",
      "from datetime import datetime\n",
      "import seaborn as sns\n",
      "from miditime.miditime import MIDITime"
     ],
     "language": "python",
     "metadata": {},
     "outputs": [
      {
       "output_type": "stream",
       "stream": "stderr",
       "text": [
        "/home/ratish/wiseio/anaconda/lib/python2.7/site-packages/matplotlib/font_manager.py:273: UserWarning: Matplotlib is building the font cache using fc-list. This may take a moment.\n",
        "  warnings.warn('Matplotlib is building the font cache using fc-list. This may take a moment.')\n"
       ]
      }
     ],
     "prompt_number": 1
    },
    {
     "cell_type": "code",
     "collapsed": false,
     "input": [
      "df = pd.read_excel(\"data/data_akbilgic.xlsx\", header=[0, 1])"
     ],
     "language": "python",
     "metadata": {},
     "outputs": [],
     "prompt_number": 3
    },
    {
     "cell_type": "code",
     "collapsed": false,
     "input": [
      "ts = df[(\"USD BASED\", \"ISE\")]"
     ],
     "language": "python",
     "metadata": {},
     "outputs": [],
     "prompt_number": 4
    },
    {
     "cell_type": "code",
     "collapsed": false,
     "input": [
      "# plot time series and save the figure                                                                                                                                                        \n",
      "fig = sns.plt.figure(figsize=(12, 8))\n",
      "sns.plt.plot(ts, \"-o\")\n",
      "sns.plt.xlabel(\"Date\")\n",
      "sns.plt.ylabel(\"USD based ISE\")\n",
      "sns.plt.title(\"Istanbul Stock Exchange\")\n",
      "fig.savefig(\"timeseries_plot.png\")\n",
      "sns.plt.clf()\n",
      "sns.plt.close()\n",
      "sns.plt.show()"
     ],
     "language": "python",
     "metadata": {},
     "outputs": [],
     "prompt_number": 5
    }
   ],
   "metadata": {}
  }
 ]
}